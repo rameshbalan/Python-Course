{
 "cells": [
  {
   "cell_type": "markdown",
   "metadata": {},
   "source": [
    "# Evidence for Absence of Genes in Squamates based on BLAST results \n",
    "_Author: Balan Ramesh  \n",
    "Project: Gene Family Evolution in  Squamates  \n",
    "Date: 18-September-2018_"
   ]
  },
  {
   "cell_type": "markdown",
   "metadata": {},
   "source": [
    "There are 240 significantly rapidly evolving gene families of which, 5 gene families were randomly chosen. They are listed below."
   ]
  },
  {
   "cell_type": "code",
   "execution_count": 7,
   "metadata": {},
   "outputs": [
    {
     "name": "stdout",
     "output_type": "stream",
     "text": [
      "Selected Rapidly Evolving Families : (2819, 6838, 10894, 14773, 19624)\n"
     ]
    }
   ],
   "source": [
    "all_rapid_fams = (769,1079,1900,1973,2147,2819,3757,3982,4910,4999,5480,5578,5844,5871,6137,6221,6284,6302,6452,6453,6665,6838,6970,7219,7605,7649,7925,8127,8137,8191,8458,8731,8847,9160,10036,10265,10270,10339,10367,10404,10568,10657,10691,10764,10819,10894,10977,11112,11179,11182,11194,11314,11424,11522,11705,11767,11873,11955,12027,12070,12090,12319,12403,12468,12649,12695,13245,13287,13491,13639,13698,13733,13802,13807,13847,13892,13934,13954,14032,14229,14284,14369,14473,14623,14626,14697,14751,14770,14773,14866,14871,14876,14968,15056,15220,15222,15272,15294,15391,15476,15584,15634,15674,15718,15994,16409,16583,16619,16625,16627,16675,16699,16716,16775,16784,16842,16945,16964,16982,17014,17044,17127,17188,17191,17220,17224,17362,17394,17422,17425,17459,17471,17489,17492,17506,17572,17592,17604,17614,17628,17629,17633,17648,17654,17657,17703,17710,17732,17781,17792,17813,17823,17833,17852,17878,17899,17906,17919,17948,17955,17988,18002,18008,18018,18036,18104,18109,18207,18273,18359,18407,18460,18469,18508,18509,18525,18609,18636,18651,18652,18660,18697,18708,18731,18733,18737,18762,18769,18794,18816,18819,18829,18849,18897,18922,18932,18971,18985,19081,19112,19119,19141,19158,19163,19169,19206,19220,19226,19293,19301,19319,19340,19363,19372,19379,19386,19393,19394,19400,19407,19443,19459,19465,19476,19477,19496,19508,19509,19522,19530,19554,19559,19583,19599,19601,19609,19613,19624,19626,19627)\n",
    "\n",
    "## Randomly selected rapdily evolving families\n",
    "random_rapid_fams = (2819,6838,10894,14773,19624)\n",
    "print(\"Selected Rapidly Evolving Families :\", random_rapid_fams)"
   ]
  },
  {
   "cell_type": "code",
   "execution_count": 17,
   "metadata": {},
   "outputs": [
    {
     "name": "stdout",
     "output_type": "stream",
     "text": [
      "Genes in family 2819:\n",
      "\n",
      ">ANOLIS:ENSACAP00000001757.3\n",
      ">ANOLIS:ENSACAP00000002041.3\n",
      ">ANOLIS:ENSACAP00000002088.2\n",
      ">ANOLIS:ENSACAP00000002369.2\n",
      ">ANOLIS:ENSACAP00000013369.2\n",
      ">ANOLIS:ENSACAP00000013844.2\n",
      ">CROTALUS:protein-8849\n",
      ">OPHIOPHAGUS:ETE69722.1\n",
      ">OPHIOSAURUS:Ogr07998\n",
      ">OPHIOSAURUS:Ogr07999\n",
      ">POGONA:Pvit_08142\n",
      ">POGONA:Pvit_16573\n",
      ">PYTHON:XP_015742860.1\n",
      ">THAMNOPHIS:XP_013921904.1\n",
      "\n",
      "\n",
      "Genes in family 6838:\n",
      "\n",
      ">ANOLIS:ENSACAP00000011025.2\n",
      ">ANOLIS:ENSACAP00000011099.3\n",
      ">ANOLIS:ENSACAP00000021290.2\n",
      ">ANOLIS:ENSACAP00000022029.1\n",
      ">ANOLIS:ENSACAP00000022212.1\n",
      ">CROTALUS:protein-5029\n",
      ">CROTALUS:protein-5031\n",
      ">POGONA:Pvit_01573\n",
      ">PYTHON:XP_007443988.1\n",
      ">THAMNOPHIS:XP_013927986.1\n",
      "\n",
      "\n",
      "Genes in family 10894:\n",
      "\n",
      ">CROTALUS:protein-1257\n",
      ">CROTALUS:protein-1406\n",
      ">OPHIOPHAGUS:ETE61653.1\n",
      ">OPHIOSAURUS:Ogr01789\n",
      ">POGONA:Pvit_15717\n",
      ">PYTHON:XP_007444278.2\n",
      ">PYTHON:XP_007444400.1\n",
      ">PYTHON:XP_007444547.1\n",
      ">PYTHON:XP_007445432.1\n",
      ">THAMNOPHIS:XP_013923358.1\n",
      ">THAMNOPHIS:XP_013931215.1\n",
      ">THAMNOPHIS:XP_013931221.1\n",
      "\n",
      "\n",
      "Genes in family 14773:\n",
      "\n",
      ">ANOLIS:ENSACAP00000007252.2\n",
      ">ANOLIS:ENSACAP00000007265.2\n",
      ">ANOLIS:ENSACAP00000010715.2\n",
      ">ANOLIS:ENSACAP00000019752.1\n",
      ">CROTALUS:protein-8870\n",
      ">OPHIOPHAGUS:ETE57751.1\n",
      ">OPHIOPHAGUS:ETE58220.1\n",
      ">OPHIOPHAGUS:ETE58566.1\n",
      ">OPHIOSAURUS:Ogr00473\n",
      ">OPHIOSAURUS:Ogr00849\n",
      ">OPHIOSAURUS:Ogr02018\n",
      ">OPHIOSAURUS:Ogr03156\n",
      ">OPHIOSAURUS:Ogr04164\n",
      ">OPHIOSAURUS:Ogr05557\n",
      ">OPHIOSAURUS:Ogr08973\n",
      ">POGONA:Pvit_01598\n",
      ">POGONA:Pvit_04908\n",
      ">POGONA:Pvit_05047\n",
      ">POGONA:Pvit_07128\n",
      ">POGONA:Pvit_08461\n",
      ">POGONA:Pvit_13816\n",
      "\n",
      "\n",
      "Genes in family 19624:\n",
      "\n",
      ">ANOLIS:ENSACAP00000022865.1\n",
      ">OPHIOPHAGUS:ETE55783.1\n",
      ">OPHIOPHAGUS:ETE56460.1\n",
      ">OPHIOPHAGUS:ETE56632.1\n",
      ">OPHIOPHAGUS:ETE56921.1\n",
      ">OPHIOPHAGUS:ETE57380.1\n",
      ">OPHIOPHAGUS:ETE58638.1\n",
      ">OPHIOPHAGUS:ETE58787.1\n",
      ">OPHIOPHAGUS:ETE58788.1\n",
      ">OPHIOPHAGUS:ETE58859.1\n",
      ">OPHIOPHAGUS:ETE59745.1\n",
      ">OPHIOPHAGUS:ETE59976.1\n",
      ">OPHIOPHAGUS:ETE60218.1\n",
      ">OPHIOPHAGUS:ETE62037.1\n",
      ">OPHIOPHAGUS:ETE63207.1\n",
      ">OPHIOPHAGUS:ETE63213.1\n",
      ">OPHIOPHAGUS:ETE64778.1\n",
      ">OPHIOPHAGUS:ETE67941.1\n",
      ">OPHIOPHAGUS:ETE71500.1\n"
     ]
    }
   ],
   "source": [
    "## Declaring gene_family specific list to extract seq ids:\n",
    "list_2819 =[]\n",
    "list_6838 = []\n",
    "list_10894 = []\n",
    "list_14773 = []\n",
    "list_19624 = []\n",
    "\n",
    "## Extracting rapidly evolving protein sequence id from the cluster file\n",
    "with open(\"Cluster-with-IDs.txt\",\"r\") as cluster_file:\n",
    "\n",
    "\tfor line in cluster_file:\n",
    "\n",
    "\t\tsplit_line = line.rstrip().split(\"\\t\")\n",
    "\n",
    "\t\tif int(split_line[0]) in random_rapid_fams:\n",
    "\n",
    "\t\t\tif \"2819\" in split_line[0]:\n",
    "\t\t\t\tlist_2819.append(\">\"+split_line[1])\n",
    "\n",
    "\t\t\telif \"6838\" in split_line[0]:\n",
    "\t\t\t\tlist_6838.append(\">\"+split_line[1])\n",
    "\n",
    "\t\t\telif \"10894\" in split_line[0]:\n",
    "\t\t\t\tlist_10894.append(\">\"+split_line[1])\n",
    "\n",
    "\t\t\telif \"14773\" in split_line[0]:\n",
    "\t\t\t\tlist_14773.append(\">\"+split_line[1])\n",
    "\n",
    "\t\t\telif \"19624\" in split_line[0]:\n",
    "\t\t\t\tlist_19624.append(\">\"+split_line[1])\n",
    "\n",
    "cluster_file.close()\n",
    "print(\"Genes in family 2819:\\n\")\n",
    "for x in sorted(list_2819):\n",
    "    print(x)\n",
    "print(\"\\n\")\n",
    "print(\"Genes in family 6838:\\n\")\n",
    "for x in sorted(list_6838):\n",
    "    print(x)\n",
    "print(\"\\n\")\n",
    "print(\"Genes in family 10894:\\n\")\n",
    "for x in sorted(list_10894):\n",
    "    print(x)\n",
    "print(\"\\n\")\n",
    "print(\"Genes in family 14773:\\n\")\n",
    "for x in sorted(list_14773):\n",
    "    print(x)\n",
    "print(\"\\n\")\n",
    "print(\"Genes in family 19624:\\n\")\n",
    "for x in sorted(list_19624):\n",
    "    print(x)"
   ]
  },
  {
   "cell_type": "code",
   "execution_count": 4,
   "metadata": {},
   "outputs": [
    {
     "data": {
      "text/html": [
       "<div>\n",
       "<style scoped>\n",
       "    .dataframe tbody tr th:only-of-type {\n",
       "        vertical-align: middle;\n",
       "    }\n",
       "\n",
       "    .dataframe tbody tr th {\n",
       "        vertical-align: top;\n",
       "    }\n",
       "\n",
       "    .dataframe thead th {\n",
       "        text-align: right;\n",
       "    }\n",
       "</style>\n",
       "<table border=\"1\" class=\"dataframe\">\n",
       "  <thead>\n",
       "    <tr style=\"text-align: right;\">\n",
       "      <th></th>\n",
       "      <th>Family ID</th>\n",
       "      <th>Ophiophagus</th>\n",
       "      <th>Thamnophis</th>\n",
       "      <th>Ancestor of Thamnophis and Ophiophagus</th>\n",
       "      <th>Crotalus</th>\n",
       "      <th>Ancestor of Crotalus Thamnophis and Ophiophagus</th>\n",
       "      <th>Python</th>\n",
       "      <th>Ancestor of All Snakes</th>\n",
       "      <th>Anolis</th>\n",
       "      <th>Pogona</th>\n",
       "      <th>Ancestor of Anolis and Pogona</th>\n",
       "      <th>Ophisaurus</th>\n",
       "      <th>Ancestor of All Lizards</th>\n",
       "      <th>MRCA</th>\n",
       "    </tr>\n",
       "  </thead>\n",
       "  <tbody>\n",
       "    <tr>\n",
       "      <th>2807</th>\n",
       "      <td>2819</td>\n",
       "      <td>1</td>\n",
       "      <td>1</td>\n",
       "      <td>1</td>\n",
       "      <td>1</td>\n",
       "      <td>1</td>\n",
       "      <td>1</td>\n",
       "      <td>2</td>\n",
       "      <td>6</td>\n",
       "      <td>2</td>\n",
       "      <td>3</td>\n",
       "      <td>2</td>\n",
       "      <td>3</td>\n",
       "      <td>2</td>\n",
       "    </tr>\n",
       "    <tr>\n",
       "      <th>6789</th>\n",
       "      <td>6838</td>\n",
       "      <td>0</td>\n",
       "      <td>1</td>\n",
       "      <td>1</td>\n",
       "      <td>2</td>\n",
       "      <td>2</td>\n",
       "      <td>1</td>\n",
       "      <td>2</td>\n",
       "      <td>5</td>\n",
       "      <td>1</td>\n",
       "      <td>2</td>\n",
       "      <td>0</td>\n",
       "      <td>2</td>\n",
       "      <td>2</td>\n",
       "    </tr>\n",
       "    <tr>\n",
       "      <th>10815</th>\n",
       "      <td>10894</td>\n",
       "      <td>1</td>\n",
       "      <td>3</td>\n",
       "      <td>3</td>\n",
       "      <td>2</td>\n",
       "      <td>3</td>\n",
       "      <td>4</td>\n",
       "      <td>3</td>\n",
       "      <td>0</td>\n",
       "      <td>1</td>\n",
       "      <td>1</td>\n",
       "      <td>1</td>\n",
       "      <td>1</td>\n",
       "      <td>3</td>\n",
       "    </tr>\n",
       "    <tr>\n",
       "      <th>14658</th>\n",
       "      <td>14773</td>\n",
       "      <td>3</td>\n",
       "      <td>0</td>\n",
       "      <td>3</td>\n",
       "      <td>1</td>\n",
       "      <td>3</td>\n",
       "      <td>0</td>\n",
       "      <td>4</td>\n",
       "      <td>4</td>\n",
       "      <td>6</td>\n",
       "      <td>6</td>\n",
       "      <td>7</td>\n",
       "      <td>6</td>\n",
       "      <td>5</td>\n",
       "    </tr>\n",
       "    <tr>\n",
       "      <th>19431</th>\n",
       "      <td>19624</td>\n",
       "      <td>18</td>\n",
       "      <td>0</td>\n",
       "      <td>1</td>\n",
       "      <td>0</td>\n",
       "      <td>1</td>\n",
       "      <td>0</td>\n",
       "      <td>1</td>\n",
       "      <td>1</td>\n",
       "      <td>0</td>\n",
       "      <td>1</td>\n",
       "      <td>0</td>\n",
       "      <td>1</td>\n",
       "      <td>1</td>\n",
       "    </tr>\n",
       "  </tbody>\n",
       "</table>\n",
       "</div>"
      ],
      "text/plain": [
       "       Family ID  Ophiophagus  Thamnophis  \\\n",
       "2807        2819            1           1   \n",
       "6789        6838            0           1   \n",
       "10815      10894            1           3   \n",
       "14658      14773            3           0   \n",
       "19431      19624           18           0   \n",
       "\n",
       "       Ancestor of Thamnophis and Ophiophagus  Crotalus  \\\n",
       "2807                                        1         1   \n",
       "6789                                        1         2   \n",
       "10815                                       3         2   \n",
       "14658                                       3         1   \n",
       "19431                                       1         0   \n",
       "\n",
       "       Ancestor of Crotalus Thamnophis and Ophiophagus  Python  \\\n",
       "2807                                                 1       1   \n",
       "6789                                                 2       1   \n",
       "10815                                                3       4   \n",
       "14658                                                3       0   \n",
       "19431                                                1       0   \n",
       "\n",
       "       Ancestor of All Snakes  Anolis  Pogona  Ancestor of Anolis and Pogona  \\\n",
       "2807                        2       6       2                              3   \n",
       "6789                        2       5       1                              2   \n",
       "10815                       3       0       1                              1   \n",
       "14658                       4       4       6                              6   \n",
       "19431                       1       1       0                              1   \n",
       "\n",
       "       Ophisaurus  Ancestor of All Lizards  MRCA  \n",
       "2807            2                        3     2  \n",
       "6789            0                        2     2  \n",
       "10815           1                        1     3  \n",
       "14658           7                        6     5  \n",
       "19431           0                        1     1  "
      ]
     },
     "execution_count": 4,
     "metadata": {},
     "output_type": "execute_result"
    }
   ],
   "source": [
    "#import Pandas\n",
    "import pandas as pd\n",
    "import numpy as np\n",
    "import qgrid\n",
    "\n",
    "#[2819,6838,10894,14773,19624]\n",
    "df = pd.read_csv(\"All_Fams.tsv\",sep='\\t',header=(0))\n",
    "\n",
    "# Index for the gene families [2819,6838,10894,14773,19624] is [2807,6789,10815,14658,19431] respectively.\n",
    "df.iloc[[2807,6789,10815,14658,19431],:]"
   ]
  },
  {
   "cell_type": "markdown",
   "metadata": {},
   "source": [
    "#### Of the 5 randomly selected gene families, let us consider gene family 19624 as an example to illustrate the idea on how using BLAST will help in finding evidence for absence of genes.  "
   ]
  },
  {
   "cell_type": "code",
   "execution_count": 57,
   "metadata": {
    "scrolled": false
   },
   "outputs": [
    {
     "data": {
      "text/html": [
       "<div>\n",
       "<style scoped>\n",
       "    .dataframe tbody tr th:only-of-type {\n",
       "        vertical-align: middle;\n",
       "    }\n",
       "\n",
       "    .dataframe tbody tr th {\n",
       "        vertical-align: top;\n",
       "    }\n",
       "\n",
       "    .dataframe thead th {\n",
       "        text-align: right;\n",
       "    }\n",
       "</style>\n",
       "<table border=\"1\" class=\"dataframe\">\n",
       "  <thead>\n",
       "    <tr style=\"text-align: right;\">\n",
       "      <th></th>\n",
       "      <th>Family ID</th>\n",
       "      <th>Ophiophagus</th>\n",
       "      <th>Thamnophis</th>\n",
       "      <th>Ancestor of Thamnophis and Ophiophagus</th>\n",
       "      <th>Crotalus</th>\n",
       "      <th>Ancestor of Crotalus Thamnophis and Ophiophagus</th>\n",
       "      <th>Python</th>\n",
       "      <th>Ancestor of All Snakes</th>\n",
       "      <th>Anolis</th>\n",
       "      <th>Pogona</th>\n",
       "      <th>Ancestor of Anolis and Pogona</th>\n",
       "      <th>Ophisaurus</th>\n",
       "      <th>Ancestor of All Lizards</th>\n",
       "      <th>MRCA</th>\n",
       "    </tr>\n",
       "  </thead>\n",
       "  <tbody>\n",
       "    <tr>\n",
       "      <th>19431</th>\n",
       "      <td>19624</td>\n",
       "      <td>18</td>\n",
       "      <td>0</td>\n",
       "      <td>1</td>\n",
       "      <td>0</td>\n",
       "      <td>1</td>\n",
       "      <td>0</td>\n",
       "      <td>1</td>\n",
       "      <td>1</td>\n",
       "      <td>0</td>\n",
       "      <td>1</td>\n",
       "      <td>0</td>\n",
       "      <td>1</td>\n",
       "      <td>1</td>\n",
       "    </tr>\n",
       "  </tbody>\n",
       "</table>\n",
       "</div>"
      ],
      "text/plain": [
       "       Family ID  Ophiophagus  Thamnophis  \\\n",
       "19431      19624           18           0   \n",
       "\n",
       "       Ancestor of Thamnophis and Ophiophagus  Crotalus  \\\n",
       "19431                                       1         0   \n",
       "\n",
       "       Ancestor of Crotalus Thamnophis and Ophiophagus  Python  \\\n",
       "19431                                                1       0   \n",
       "\n",
       "       Ancestor of All Snakes  Anolis  Pogona  Ancestor of Anolis and Pogona  \\\n",
       "19431                       1       1       0                              1   \n",
       "\n",
       "       Ophisaurus  Ancestor of All Lizards  MRCA  \n",
       "19431           0                        1     1  "
      ]
     },
     "execution_count": 57,
     "metadata": {},
     "output_type": "execute_result"
    }
   ],
   "source": [
    "df.iloc[[19431],:]"
   ]
  },
  {
   "cell_type": "markdown",
   "metadata": {},
   "source": [
    "#### In gene family 19624, there are 18 protein sequences in Ophiophagus, while none of the other snakes have any of these 18 protein sequences. \n",
    "\n",
    "#### Similarly there is 1 protein sequence in Anolis which is absent in all the other lizards.\n",
    "\n",
    "#### A sample gene family file is depicted below. "
   ]
  },
  {
   "cell_type": "code",
   "execution_count": 60,
   "metadata": {},
   "outputs": [
    {
     "name": "stdout",
     "output_type": "stream",
     "text": [
      ">ANOLIS:ENSACAP00000022865.1\n",
      "MNPDGGETMKEFLFLEEEQANPRGAEELREERNPSPALSEGGTDPSDPSWKPLTSTQLPAGRGVTVRRKIQMGGDWQRDGEGAPEMRRMERRLDAMEKMFETFSRQMDLMQRQVNESWRATVEQREQRRGLPGRGTEPRPFAGEGPQDYVDEMPQQGTSVFPTGLSGRSQMPGKGEFRVKFNGDPKQLSYFITNVRHFMEDFGDQFPSESAKIHMVGANLKEAAADWLMQMYDTGAR\n",
      ">OPHIOPHAGUS:ETE55783.1\n",
      "MFDGTASKLAFFLNRAWSYIERHGNEFHNEAELVQFLGXNLEEEASEWFTQLNDEKAPELNNVDDFLRELHSHSEDSSQAQEAEAEIKSIRQK\n",
      ">OPHIOPHAGUS:ETE56460.1\n",
      "MFDGTASKPAFFMNRAWSYIERHGNEFHDEAELVQFLGDNLEEEASEWFTQLNDEGAPELNNVDDFLRELRSHFEDSSRAQEAEAEIKSIRQKGRPAKDLVLEFRCLATNLRHWSQRLLVHYFQESLDEELLKICLCCGLPEDRIYE\n",
      ">OPHIOPHAGUS:ETE56632.1\n",
      "MGSGTSSKEASSGCSPTSPPPPPPQPGPHANAPTPFKTMFDGTASKLAFFMNRAWSYIERHGNEFHDEAELVQFLGDNLEEEASEWFTQVNDEEAPELNNVDDFLRELHSHFEDSSQAQEAEAEIKSIRQKGRPAKDLVLEFRCLATNLRHWSQRLLVHYFQESLDEELLKICLCHGLPEDRIYE\n",
      ">OPHIOPHAGUS:ETE56921.1\n",
      "MFDGTASNLAFFLNRAWAYIDTHGDEFHDDAQLVQFLGDNLEEEASEWFTQLDDEGAPELNNVDDFLRELQSHFEDSSQAQEAEAEIKSIRQKGSPAKELVLEFRCLATSLRHWFQRILVHYFQESLD\n",
      ">OPHIOPHAGUS:ETE57380.1\n",
      "HGDEFHDDAQLDQFLGDNLEEEASEWFTQLNDESAPELNNMNDFLRELQSHFEDSSRAQEAEAEIKSIRQKGRPGKELVLEFRRLATSLRHWSQRILVHISKKAWMRSC\n",
      ">OPHIOPHAGUS:ETE58638.1\n",
      "MLAQLSHSGKMAEGRNLGALERECKLCEEPGVKLLVEQQASQRVPQESIRVMVVMEDIACQLGAHPKSPTEWSGSTSIQQMERALLGQATLPDPLINWPLTAARESRAMILEAWSYIERHGNEFHDEAELVQFLGDNLEEESSEWFTQLNDEGAPELNNVDDFLRELRSHFEDSSQAQEAEAEIKKSLDEELLKICLCHGLPEDRIYEWYRMAIKMDNALRQHRKSNAEKQPKRQFTRHSFPCQGEGRQTAAPPTSLKCFHCGQQGHRASECLAPALIPSSETKKFENISFSYADDETRTTTFREIGILK\n",
      ">OPHIOPHAGUS:ETE58787.1\n",
      "MGILSRQRMVSGRNSKEASSGYSPASPPPPPPQPAPQVNTPTSFKTMFDGTASKLAFFMNRAWSYIERHGNEFHDEAEQVQFLGDNLEEEASEWFTQLNDEGAPELNNVDDFLRELCSHFEDSS\n",
      ">OPHIOPHAGUS:ETE58788.1\n",
      "MFFLNQVWAHIDDYGPGYPTKQAVVRPANLEGQEAEWVTQLHDKDAPELGNTDTFLQELRARFEDESQAQKVEAKIHEIRQKSHPARFSGLLGSCSTGRNDS\n",
      ">OPHIOPHAGUS:ETE58859.1\n",
      "MAEGQDPGALERECKLLRRACVKLPVEQHASQQIPQETIRVTVVIEDIVRQLGAHPKSPSREWVQEQAQMRPAQAAAPHPPPQPVPHANAPTPFKTMFDGTASKLAFFLNRAWSYIERHGNEFHNEAELVQFLGDNLMRRHLNGSLRSMMKAPLN\n",
      ">OPHIOPHAGUS:ETE59745.1\n",
      "MAEGQDLGVPKRECQNETIRVTAAMEDIVCQMGACPKSPVEWSDIQRMERDLLGQTTLPDLLIDPPLTAARESQATILEDEFHDDAQLVQFLSDNLEEEASEWFTQLNDEGAPKLNNVNNFLRELQAHFEDSS\n",
      ">OPHIOPHAGUS:ETE59976.1\n",
      "MEVLGVVYLVVLGPGPGAGQAQAFASLSQPQPATLGSVAQGTVPPHWAYYPGHSWVQAQWTPALMPPMPLAAPPPPARPAAPPQFKAAFDRDPDKLAFFLNRVWAHIDEYVSDYPSDQSMIQAITKKFKREAAEWMNQLHNKDVPELGNVDSCFLQELRDRFKDESQAQESEAEIKEMKQRGCPAKEYIREFRRVAGKLQHWPEHLLILL\n",
      ">OPHIOPHAGUS:ETE60218.1\n",
      "MMVCVAIPPPQPLAQPSWGPAGVLGQTQQPPAWQVPPGWAYNLRQGWVQAQWVPTAVLVPPPPPAHPATLPYFKAALDGSLDKLAFYLNWVWANIDHYRENYPNDEEIIIAITENLKNWVTQLHDEGTPKLGDVDELLQEMRKRFEDTAQGLDAEAEIKAIRQKGCLAKEYIGEFQRLTGRLSYWPKCLLVHYFKEVPDWELHNAWVCQGVPHCINDW\n",
      ">OPHIOPHAGUS:ETE62037.1\n",
      "MVPAQALAPQPQPPPARANTPLPFKPVFDGTASKLACFLNRAWSYSDHHGDEFHDRVIVSILSDNLEEEASEWFTQVHDEGAPELDNIDDFLRALQARFEGSAQAQEAEAEIKMMKQKGWPAKEIVKEFLRLAGRLSNWPEQILVHYFKECLDEEDLPTPHTSFKNKLILVMGNFARTGGRGH\n",
      ">OPHIOPHAGUS:ETE63207.1\n",
      "METHPNQSNKPHQHLWGCRPQTNFHPAHIDHYGAKYQLDQDMITAIADNVREGKAAGWIAELHDEGAPELEDVDEFVRSLRARFEDPANPEKAEAEIKGLRQHGRPPKELVWEFRRVARRLQGWPKRLFVYYFKEALDLELRKLCTIRSVPDRIQDWYRMAIAMDLEINHHHRATQEKAPKCQLGRHPAVNPSAEPKRATSPTIECYQCGQLGHRASECLAPTPIPQARTLVISKPKRTLHKPPEKGKFT\n",
      ">OPHIOPHAGUS:ETE63213.1\n",
      "MERDLLGQATPPDPLIDQLLTAARESQATILEWRAAMGPIEPRGDHNEPAEWQYQTAVCSQTFEDLSDQLGQLVIGREGRGQQRRQPPPSERSCWENILLPEEGDLLLQETFHQYIVRLREWKTEGGWIREKAQRRPAQAAAPPPPPQPAPRVNTPTPFKTTFDGTASKLAFFMNRAWSYIERHGNEFHDEAELVQFLGDNLEEEASEWFTQLNAEGAPELNNSSIHILDSSRAQEAEAEIKSIRQKGGPTKDLVLEFRRLTTNLKHWSQRLLVHYFQESLDEELLKNLPVPWFA\n",
      ">OPHIOPHAGUS:ETE64778.1\n",
      "MPQPFKTTFDGTASKLAFFLNRAWSYINRHGNEFHDDAQLVQFFGDNLVEEASEWFTQLNNEGAPELNNVDDFLRELRSHFEDSSQTQKAEAEIKSIRQKSRPAKELVLEFRHLATSLRHWSQRILVHYFQEILDEELLKICLCHGLPEDRIYEWYWMAIAMNKCNCQLYPLIRLYTYSHKALFTQLSFYRYIFDVDYAKEKYTGPGKDELKMMLEAYKEGYKKLKNTVDKWLSMNSYSESPIQS\n",
      ">OPHIOPHAGUS:ETE67941.1\n",
      "MRMPQHLLKPCLMGLQVNLYFFLNRAWSYINRNGNEFHDEAELVQFLGVSLEEEACEWFTQLNDEGVPELNNVDDFLRELRSHFEDSFQAQEAEAEIKSIRQKGRPTKELVLEFRCLATNLRHWSQRILVHYFQENLDEELLKICLCRGLPEDRIYEDAHSNGQHAQTAPEKQC\n",
      ">OPHIOPHAGUS:ETE71500.1\n",
      "MTKQKKHELRQGWGQCQWALALVPRPAAVPLPSVLPATPPAALPCFRAAFDETPGKLAYFLNQIWSHLDCHGDQYQSDQDMVLAIADNMEDNAAEWIAKLHNQRASELGDADEFVEMLRTRFEDTGQGQETETEIKDLKQRGTSVRVLKSGGKAVGLARTSPGPLFQGGPGPRPPTGRHLPRHP\n",
      "\n"
     ]
    }
   ],
   "source": [
    "with open(\"gene_fam_19624.fasta\",\"r\") as gene_fam_19624:\n",
    "    print(gene_fam_19624.read())"
   ]
  },
  {
   "cell_type": "markdown",
   "metadata": {},
   "source": [
    "\n",
    "\n",
    "Blasting (tblastn) _Ophiophagus_ protein sequences against _Crotalus_ or _Python_ or _Thamnophis_ genome should essentially __produce no \"hits\"__ as these proteins are not present in these species. However, if there is a pseudogene, blast will indeed produce a hit but with a lower query coverage and a lower identity.\n",
    "\n",
    "\n",
    "* To test this idea, blast database was created for each species using its genome except Ophiosaurus.\n",
    "\n",
    "* Each gene family was blasted against each species (database).(Fig 1)\n",
    "\n",
    "![](BLAST_pipeline.jpeg)\n"
   ]
  },
  {
   "cell_type": "code",
   "execution_count": 22,
   "metadata": {},
   "outputs": [
    {
     "data": {
      "application/vnd.jupyter.widget-view+json": {
       "model_id": "7ceb75985dc14349b59ee43b498719a5",
       "version_major": 2,
       "version_minor": 0
      },
      "text/html": [
       "<p>Failed to display Jupyter Widget of type <code>QgridWidget</code>.</p>\n",
       "<p>\n",
       "  If you're reading this message in the Jupyter Notebook or JupyterLab Notebook, it may mean\n",
       "  that the widgets JavaScript is still loading. If this message persists, it\n",
       "  likely means that the widgets JavaScript library is either not installed or\n",
       "  not enabled. See the <a href=\"https://ipywidgets.readthedocs.io/en/stable/user_install.html\">Jupyter\n",
       "  Widgets Documentation</a> for setup instructions.\n",
       "</p>\n",
       "<p>\n",
       "  If you're reading this message in another frontend (for example, a static\n",
       "  rendering on GitHub or <a href=\"https://nbviewer.jupyter.org/\">NBViewer</a>),\n",
       "  it may mean that your frontend doesn't currently support widgets.\n",
       "</p>\n"
      ],
      "text/plain": [
       "QgridWidget(grid_options={'fullWidthRows': True, 'syncColumnCellResize': True, 'forceFitColumns': True, 'defaultColumnWidth': 150, 'rowHeight': 28, 'enableColumnReorder': False, 'enableTextSelectionOnCells': True, 'editable': True, 'autoEdit': False, 'explicitInitialization': True, 'maxVisibleRows': 15, 'minVisibleRows': 8, 'sortable': True, 'filterable': True, 'highlightSelectedCell': False, 'highlightSelectedRow': True, 'boldIndex': True}, id='64d70937-2bf8-4217-8d91-075d23bf8295', precision=5, show_toolbar=True)"
      ]
     },
     "metadata": {},
     "output_type": "display_data"
    }
   ],
   "source": [
    "df_19624_Anolis = pd.read_csv(\"Raw_Files/gene_fam_19624vs_Anolis_db.txt\",sep='\\t',header=None,names = [\"Query\", \"Subject\", \"E-Value\", \"QCoverage\"])\n",
    "df_19624_Anolis\n",
    "df_19624_Anolis['db'] = pd.Series(\"Anolis\", index=df_19624_Anolis.index)\n",
    "qgrid.widget_19624_Anolis = qgrid.show_grid(df_19624_Anolis.drop_duplicates(subset=[\"Query\"]),show_toolbar=True)\n",
    "qgrid.widget_19624_Anolis"
   ]
  },
  {
   "cell_type": "code",
   "execution_count": 20,
   "metadata": {},
   "outputs": [
    {
     "data": {
      "application/vnd.jupyter.widget-view+json": {
       "model_id": "12db0a452897495dac414f83e8c7de22",
       "version_major": 2,
       "version_minor": 0
      },
      "text/html": [
       "<p>Failed to display Jupyter Widget of type <code>QgridWidget</code>.</p>\n",
       "<p>\n",
       "  If you're reading this message in the Jupyter Notebook or JupyterLab Notebook, it may mean\n",
       "  that the widgets JavaScript is still loading. If this message persists, it\n",
       "  likely means that the widgets JavaScript library is either not installed or\n",
       "  not enabled. See the <a href=\"https://ipywidgets.readthedocs.io/en/stable/user_install.html\">Jupyter\n",
       "  Widgets Documentation</a> for setup instructions.\n",
       "</p>\n",
       "<p>\n",
       "  If you're reading this message in another frontend (for example, a static\n",
       "  rendering on GitHub or <a href=\"https://nbviewer.jupyter.org/\">NBViewer</a>),\n",
       "  it may mean that your frontend doesn't currently support widgets.\n",
       "</p>\n"
      ],
      "text/plain": [
       "QgridWidget(grid_options={'fullWidthRows': True, 'syncColumnCellResize': True, 'forceFitColumns': True, 'defaultColumnWidth': 150, 'rowHeight': 28, 'enableColumnReorder': False, 'enableTextSelectionOnCells': True, 'editable': True, 'autoEdit': False, 'explicitInitialization': True, 'maxVisibleRows': 15, 'minVisibleRows': 8, 'sortable': True, 'filterable': True, 'highlightSelectedCell': False, 'highlightSelectedRow': True, 'boldIndex': True}, id='5ab2923e-61cc-46f2-a00f-9a0f35983376', precision=5, show_toolbar=True)"
      ]
     },
     "metadata": {},
     "output_type": "display_data"
    }
   ],
   "source": [
    "df_19624_Pogona = pd.read_csv(\"Raw_Files/gene_fam_19624vs_Pogona_db.txt\",sep='\\t',header=None,names = [\"Query\", \"Subject\", \"E-Value\", \"QCoverage\"])\n",
    "df_19624_Pogona['db'] = pd.Series(\"Pogona\", index=df_19624_Pogona.index)\n",
    "qgrid_widget_19624_Pogona = qgrid.show_grid(df_19624_Pogona, show_toolbar=True)\n",
    "qgrid_widget_19624_Pogona"
   ]
  },
  {
   "cell_type": "code",
   "execution_count": 26,
   "metadata": {},
   "outputs": [
    {
     "data": {
      "application/vnd.jupyter.widget-view+json": {
       "model_id": "8d0d272f94754c4dba5f12cc977223cd",
       "version_major": 2,
       "version_minor": 0
      },
      "text/html": [
       "<p>Failed to display Jupyter Widget of type <code>QgridWidget</code>.</p>\n",
       "<p>\n",
       "  If you're reading this message in the Jupyter Notebook or JupyterLab Notebook, it may mean\n",
       "  that the widgets JavaScript is still loading. If this message persists, it\n",
       "  likely means that the widgets JavaScript library is either not installed or\n",
       "  not enabled. See the <a href=\"https://ipywidgets.readthedocs.io/en/stable/user_install.html\">Jupyter\n",
       "  Widgets Documentation</a> for setup instructions.\n",
       "</p>\n",
       "<p>\n",
       "  If you're reading this message in another frontend (for example, a static\n",
       "  rendering on GitHub or <a href=\"https://nbviewer.jupyter.org/\">NBViewer</a>),\n",
       "  it may mean that your frontend doesn't currently support widgets.\n",
       "</p>\n"
      ],
      "text/plain": [
       "QgridWidget(grid_options={'fullWidthRows': True, 'syncColumnCellResize': True, 'forceFitColumns': True, 'defaultColumnWidth': 150, 'rowHeight': 28, 'enableColumnReorder': False, 'enableTextSelectionOnCells': True, 'editable': True, 'autoEdit': False, 'explicitInitialization': True, 'maxVisibleRows': 15, 'minVisibleRows': 8, 'sortable': True, 'filterable': True, 'highlightSelectedCell': False, 'highlightSelectedRow': True, 'boldIndex': True}, id='dc9f7ca7-2ea9-4883-90f9-f19a00ceabce', precision=5, show_toolbar=True)"
      ]
     },
     "metadata": {},
     "output_type": "display_data"
    }
   ],
   "source": [
    "df_19624_Python = pd.read_csv(\"Raw_Files/gene_fam_19624vs_Python_genomic_db.txt\",sep='\\t',header=None,names = [\"Query\", \"Subject\", \"E-Value\", \"QCoverage\"])\n",
    "df_19624_Python\n",
    "df_19624_Python['db'] = pd.Series(\"Python\", index=df_19624_Python.index)\n",
    "qgrid.widget_19624_Python = qgrid.show_grid(df_19624_Python.drop_duplicates(subset=[\"Query\"]),show_toolbar=True)\n",
    "qgrid.widget_19624_Python"
   ]
  },
  {
   "cell_type": "code",
   "execution_count": 32,
   "metadata": {},
   "outputs": [
    {
     "data": {
      "application/vnd.jupyter.widget-view+json": {
       "model_id": "2ee3a7cfc7874e9ca33d1ef72dc1ab33",
       "version_major": 2,
       "version_minor": 0
      },
      "text/html": [
       "<p>Failed to display Jupyter Widget of type <code>QgridWidget</code>.</p>\n",
       "<p>\n",
       "  If you're reading this message in the Jupyter Notebook or JupyterLab Notebook, it may mean\n",
       "  that the widgets JavaScript is still loading. If this message persists, it\n",
       "  likely means that the widgets JavaScript library is either not installed or\n",
       "  not enabled. See the <a href=\"https://ipywidgets.readthedocs.io/en/stable/user_install.html\">Jupyter\n",
       "  Widgets Documentation</a> for setup instructions.\n",
       "</p>\n",
       "<p>\n",
       "  If you're reading this message in another frontend (for example, a static\n",
       "  rendering on GitHub or <a href=\"https://nbviewer.jupyter.org/\">NBViewer</a>),\n",
       "  it may mean that your frontend doesn't currently support widgets.\n",
       "</p>\n"
      ],
      "text/plain": [
       "QgridWidget(grid_options={'fullWidthRows': True, 'syncColumnCellResize': True, 'forceFitColumns': True, 'defaultColumnWidth': 150, 'rowHeight': 28, 'enableColumnReorder': False, 'enableTextSelectionOnCells': True, 'editable': True, 'autoEdit': False, 'explicitInitialization': True, 'maxVisibleRows': 15, 'minVisibleRows': 8, 'sortable': True, 'filterable': True, 'highlightSelectedCell': False, 'highlightSelectedRow': True, 'boldIndex': True}, id='54e8d692-3bff-4403-be05-4a5bb61fdac9', precision=5, show_toolbar=True)"
      ]
     },
     "metadata": {},
     "output_type": "display_data"
    }
   ],
   "source": [
    "df_19624_Crotalus_Genome = pd.read_csv(\"Raw_Files/gene_fam_19624vs_Crotalus_Genome_db.txt\",sep='\\t',header=None,names = [\"Query\", \"Subject\", \"E-Value\", \"QCoverage\"])\n",
    "df_19624_Crotalus_Genome['db'] = pd.Series(\"Crotalus\", index=df_19624_Crotalus_Genome.index)\n",
    "qgrid_widget_19624_Crotalus_Genome = qgrid.show_grid(df_19624_Crotalus_Genome.drop_duplicates(subset=[\"Query\"]), show_toolbar=True)\n",
    "qgrid_widget_19624_Crotalus_Genome"
   ]
  },
  {
   "cell_type": "code",
   "execution_count": 33,
   "metadata": {},
   "outputs": [
    {
     "data": {
      "application/vnd.jupyter.widget-view+json": {
       "model_id": "d3438caceb3d468b8b751239997e6d2d",
       "version_major": 2,
       "version_minor": 0
      },
      "text/html": [
       "<p>Failed to display Jupyter Widget of type <code>QgridWidget</code>.</p>\n",
       "<p>\n",
       "  If you're reading this message in the Jupyter Notebook or JupyterLab Notebook, it may mean\n",
       "  that the widgets JavaScript is still loading. If this message persists, it\n",
       "  likely means that the widgets JavaScript library is either not installed or\n",
       "  not enabled. See the <a href=\"https://ipywidgets.readthedocs.io/en/stable/user_install.html\">Jupyter\n",
       "  Widgets Documentation</a> for setup instructions.\n",
       "</p>\n",
       "<p>\n",
       "  If you're reading this message in another frontend (for example, a static\n",
       "  rendering on GitHub or <a href=\"https://nbviewer.jupyter.org/\">NBViewer</a>),\n",
       "  it may mean that your frontend doesn't currently support widgets.\n",
       "</p>\n"
      ],
      "text/plain": [
       "QgridWidget(grid_options={'fullWidthRows': True, 'syncColumnCellResize': True, 'forceFitColumns': True, 'defaultColumnWidth': 150, 'rowHeight': 28, 'enableColumnReorder': False, 'enableTextSelectionOnCells': True, 'editable': True, 'autoEdit': False, 'explicitInitialization': True, 'maxVisibleRows': 15, 'minVisibleRows': 8, 'sortable': True, 'filterable': True, 'highlightSelectedCell': False, 'highlightSelectedRow': True, 'boldIndex': True}, id='266a0a27-cce5-4ca0-b4d1-978d38483125', precision=5, show_toolbar=True)"
      ]
     },
     "metadata": {},
     "output_type": "display_data"
    }
   ],
   "source": [
    "df_19624_Ophiophagus = pd.read_csv(\"Raw_Files/gene_fam_19624vs_Ophiophagus_db.txt\",sep='\\t',header=None,names = [\"Query\", \"Subject\", \"E-Value\", \"QCoverage\"])\n",
    "df_19624_Ophiophagus['db'] = pd.Series(\"Ophiophagus\", index=df_19624_Ophiophagus.index)\n",
    "qgrid_widget_19624_Ophiophagus = qgrid.show_grid(df_19624_Ophiophagus.drop_duplicates(subset=[\"Query\"]), show_toolbar=True)\n",
    "qgrid_widget_19624_Ophiophagus"
   ]
  },
  {
   "cell_type": "code",
   "execution_count": 34,
   "metadata": {},
   "outputs": [
    {
     "data": {
      "application/vnd.jupyter.widget-view+json": {
       "model_id": "879f3de6a6184bc9aa453d8c77115f55",
       "version_major": 2,
       "version_minor": 0
      },
      "text/html": [
       "<p>Failed to display Jupyter Widget of type <code>QgridWidget</code>.</p>\n",
       "<p>\n",
       "  If you're reading this message in the Jupyter Notebook or JupyterLab Notebook, it may mean\n",
       "  that the widgets JavaScript is still loading. If this message persists, it\n",
       "  likely means that the widgets JavaScript library is either not installed or\n",
       "  not enabled. See the <a href=\"https://ipywidgets.readthedocs.io/en/stable/user_install.html\">Jupyter\n",
       "  Widgets Documentation</a> for setup instructions.\n",
       "</p>\n",
       "<p>\n",
       "  If you're reading this message in another frontend (for example, a static\n",
       "  rendering on GitHub or <a href=\"https://nbviewer.jupyter.org/\">NBViewer</a>),\n",
       "  it may mean that your frontend doesn't currently support widgets.\n",
       "</p>\n"
      ],
      "text/plain": [
       "QgridWidget(grid_options={'fullWidthRows': True, 'syncColumnCellResize': True, 'forceFitColumns': True, 'defaultColumnWidth': 150, 'rowHeight': 28, 'enableColumnReorder': False, 'enableTextSelectionOnCells': True, 'editable': True, 'autoEdit': False, 'explicitInitialization': True, 'maxVisibleRows': 15, 'minVisibleRows': 8, 'sortable': True, 'filterable': True, 'highlightSelectedCell': False, 'highlightSelectedRow': True, 'boldIndex': True}, id='4f721e69-45d2-451d-b644-0a19e8d3c15d', precision=5, show_toolbar=True)"
      ]
     },
     "metadata": {},
     "output_type": "display_data"
    }
   ],
   "source": [
    "df_19624_Thamnophis = pd.read_csv(\"Raw_Files/gene_fam_19624vs_Thamnophis_db.txt\",sep='\\t',header=None,names = [\"Query\", \"Subject\", \"E-Value\", \"QCoverage\"])\n",
    "df_19624_Thamnophis['db'] = pd.Series(\"Thamnophis\", index=df_19624_Thamnophis.index)\n",
    "qgrid_widget_19624_Thamnophis = qgrid.show_grid(df_19624_Thamnophis.drop_duplicates(subset=[\"Query\"]), show_toolbar=True)\n",
    "qgrid_widget_19624_Thamnophis"
   ]
  },
  {
   "cell_type": "code",
   "execution_count": 50,
   "metadata": {},
   "outputs": [
    {
     "data": {
      "application/vnd.jupyter.widget-view+json": {
       "model_id": "c3ce926acb264b00a421f7f00a50b383",
       "version_major": 2,
       "version_minor": 0
      },
      "text/html": [
       "<p>Failed to display Jupyter Widget of type <code>QgridWidget</code>.</p>\n",
       "<p>\n",
       "  If you're reading this message in the Jupyter Notebook or JupyterLab Notebook, it may mean\n",
       "  that the widgets JavaScript is still loading. If this message persists, it\n",
       "  likely means that the widgets JavaScript library is either not installed or\n",
       "  not enabled. See the <a href=\"https://ipywidgets.readthedocs.io/en/stable/user_install.html\">Jupyter\n",
       "  Widgets Documentation</a> for setup instructions.\n",
       "</p>\n",
       "<p>\n",
       "  If you're reading this message in another frontend (for example, a static\n",
       "  rendering on GitHub or <a href=\"https://nbviewer.jupyter.org/\">NBViewer</a>),\n",
       "  it may mean that your frontend doesn't currently support widgets.\n",
       "</p>\n"
      ],
      "text/plain": [
       "QgridWidget(grid_options={'fullWidthRows': True, 'syncColumnCellResize': True, 'forceFitColumns': True, 'defaultColumnWidth': 150, 'rowHeight': 28, 'enableColumnReorder': False, 'enableTextSelectionOnCells': True, 'editable': True, 'autoEdit': False, 'explicitInitialization': True, 'maxVisibleRows': 15, 'minVisibleRows': 8, 'sortable': True, 'filterable': True, 'highlightSelectedCell': False, 'highlightSelectedRow': True, 'boldIndex': True}, id='0a6dc8c3-8df6-4460-8709-5d590c890032', precision=5, show_toolbar=True)"
      ]
     },
     "metadata": {},
     "output_type": "display_data"
    }
   ],
   "source": [
    "df_fam_19624 = df_19624_Anolis.drop_duplicates(subset=[\"Query\"]).append([df_19624_Pogona.drop_duplicates(subset=[\"Query\"]),df_19624_Python.drop_duplicates(subset=[\"Query\"]),df_19624_Crotalus_Genome.drop_duplicates(subset=[\"Query\"]),df_19624_Ophiophagus.drop_duplicates(subset=[\"Query\"]),df_19624_Thamnophis.drop_duplicates(subset=[\"Query\"])],ignore_index=True)\n",
    "qgrid_widget_fam_19624 = qgrid.show_grid(df_fam_19624, show_toolbar=True)\n",
    "qgrid_widget_fam_19624"
   ]
  }
 ],
 "metadata": {
  "kernelspec": {
   "display_name": "Python 3",
   "language": "python",
   "name": "python3"
  },
  "language_info": {
   "codemirror_mode": {
    "name": "ipython",
    "version": 3
   },
   "file_extension": ".py",
   "mimetype": "text/x-python",
   "name": "python",
   "nbconvert_exporter": "python",
   "pygments_lexer": "ipython3",
   "version": "3.6.4"
  }
 },
 "nbformat": 4,
 "nbformat_minor": 2
}
